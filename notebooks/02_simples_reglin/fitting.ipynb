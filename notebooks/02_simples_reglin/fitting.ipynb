{
 "cells": [
  {
   "cell_type": "markdown",
   "id": "7898ac08",
   "metadata": {},
   "source": [
    "### Carregando dados:"
   ]
  },
  {
   "cell_type": "code",
   "execution_count": 3,
   "id": "6aeb6e29",
   "metadata": {},
   "outputs": [],
   "source": [
    "import pickle\n",
    "\n",
    "# Carregando dados pelo pickle:\n",
    "\n",
    "with open('critic_temp.pkl', 'rb') as f:\n",
    "    crit_temp_array_train = pickle.load(f)\n",
    "with open('thermal_cond.pkl', 'rb') as f:\n",
    "    thermal_cond_array_train = pickle.load(f)"
   ]
  },
  {
   "cell_type": "markdown",
   "id": "7423dacf",
   "metadata": {},
   "source": []
  }
 ],
 "metadata": {
  "kernelspec": {
   "display_name": "env",
   "language": "python",
   "name": "python3"
  },
  "language_info": {
   "codemirror_mode": {
    "name": "ipython",
    "version": 3
   },
   "file_extension": ".py",
   "mimetype": "text/x-python",
   "name": "python",
   "nbconvert_exporter": "python",
   "pygments_lexer": "ipython3",
   "version": "3.12.10"
  }
 },
 "nbformat": 4,
 "nbformat_minor": 5
}
