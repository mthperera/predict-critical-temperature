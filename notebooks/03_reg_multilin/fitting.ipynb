{
 "cells": [
  {
   "cell_type": "markdown",
   "id": "f31e8e79",
   "metadata": {},
   "source": [
    "### Carregando dados:"
   ]
  },
  {
   "cell_type": "code",
   "execution_count": 4,
   "id": "85e24b59",
   "metadata": {},
   "outputs": [],
   "source": [
    "import pickle\n",
    "\n",
    "with open('features_tratadas/critic_temp.pkl', 'rb') as f:\n",
    "    crit_temp_array = pickle.load(f)\n",
    "with open('features_tratadas/n_element.pkl', 'rb') as f:\n",
    "    n_element_array = pickle.load(f)\n",
    "with open('features_tratadas/atomic_mass.pkl', 'rb') as f:\n",
    "    atomic_mass_array = pickle.load(f)\n",
    "with open('features_tratadas/fie.pkl', 'rb') as f:\n",
    "    fie_array = pickle.load(f)\n",
    "with open('features_tratadas/atom_radius.pkl', 'rb') as f:\n",
    "    atom_radius_array = pickle.load(f)\n",
    "with open('features_tratadas/density.pkl', 'rb') as f:\n",
    "    density_array = pickle.load(f)\n",
    "with open('features_tratadas/elec_aff.pkl', 'rb') as f:\n",
    "    elec_aff_array = pickle.load(f)\n",
    "with open('features_tratadas/fusion_heat.pkl', 'rb') as f:\n",
    "    fusion_heat_array = pickle.load(f)\n",
    "with open('features_tratadas/thermal_cond.pkl', 'rb') as f:\n",
    "    thermal_cond_array = pickle.load(f)\n",
    "with open('features_tratadas/valence.pkl', 'rb') as f:\n",
    "    valence_array = pickle.load(f)"
   ]
  },
  {
   "cell_type": "markdown",
   "id": "7ba537e3",
   "metadata": {},
   "source": [
    "### Separando em train - test:"
   ]
  },
  {
   "cell_type": "code",
   "execution_count": 5,
   "id": "87d828f6",
   "metadata": {},
   "outputs": [],
   "source": [
    "from sklearn.model_selection import train_test_split\n",
    "\n",
    "crit_temp_array_train, crit_temp_array_test = train_test_split(crit_temp_array, test_size=0.2, random_state=42)\n",
    "n_element_array_train, n_element_array_test = train_test_split(n_element_array, test_size=0.2, random_state=42)\n",
    "atomic_mass_array_train, atomic_mass_array_test = train_test_split(atomic_mass_array, test_size=0.2, random_state=42)\n",
    "fie_array_train, fie_array_test = train_test_split(fie_array, test_size=0.2, random_state=42)\n",
    "atom_radius_array_train, atom_radius_array_test = train_test_split(atom_radius_array, test_size=0.2, random_state=42)\n",
    "density_array_train, density_array_test = train_test_split(density_array, test_size=0.2, random_state=42)\n",
    "elec_aff_array_train, elec_aff_array_test = train_test_split(elec_aff_array, test_size=0.2, random_state=42)\n",
    "fusion_heat_array_train, fusion_heat_array_test = train_test_split(fusion_heat_array, test_size=0.2, random_state=42)\n",
    "thermal_cond_array_train, thermal_cond_array_test = train_test_split(thermal_cond_array, test_size=0.2, random_state=42)\n",
    "valence_array_train, valence_array_test = train_test_split(valence_array, test_size=0.2, random_state=42)"
   ]
  },
  {
   "cell_type": "markdown",
   "id": "7caf704d",
   "metadata": {},
   "source": [
    "### Criando modelo:"
   ]
  },
  {
   "cell_type": "code",
   "execution_count": 8,
   "id": "ca66df17",
   "metadata": {},
   "outputs": [
    {
     "name": "stdout",
     "output_type": "stream",
     "text": [
      "Equação linear: y = 4.21 x0 + 1.35 x1 + -0.01 x2 + 0.21 x3 + 0.09 x4 + -5.34 x5 + -0.06 x6 + 0.34 x7 + -1.82 x8 + -2.5228708477397666\n"
     ]
    }
   ],
   "source": [
    "from sklearn.linear_model import LinearRegression\n",
    "import numpy as np\n",
    "\n",
    "modelo = LinearRegression()\n",
    "\n",
    "X_train = np.column_stack(\n",
    "    [n_element_array_train, atomic_mass_array_train, fie_array_train, atom_radius_array_train, density_array_train, \n",
    "    elec_aff_array_train, fusion_heat_array_train, thermal_cond_array_train, valence_array_train]\n",
    ")\n",
    "\n",
    "simples_reglin = modelo.fit(X_train, crit_temp_array_train)\n",
    "\n",
    "# Mostrando coeficientes da reta:\n",
    "\n",
    "string_equation = \"Equação linear: y = \"\n",
    "for i, coef in enumerate(modelo.coef_):\n",
    "    string_equation += f'{coef:.2f} x{i} + '\n",
    "string_equation += f\"{modelo.intercept_}\"\n",
    "\n",
    "print(string_equation)"
   ]
  }
 ],
 "metadata": {
  "kernelspec": {
   "display_name": "env",
   "language": "python",
   "name": "python3"
  },
  "language_info": {
   "codemirror_mode": {
    "name": "ipython",
    "version": 3
   },
   "file_extension": ".py",
   "mimetype": "text/x-python",
   "name": "python",
   "nbconvert_exporter": "python",
   "pygments_lexer": "ipython3",
   "version": "3.12.10"
  }
 },
 "nbformat": 4,
 "nbformat_minor": 5
}
