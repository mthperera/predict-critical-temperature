{
 "cells": [
  {
   "cell_type": "markdown",
   "id": "70fe9b84",
   "metadata": {},
   "source": [
    "### Carregando dados:"
   ]
  },
  {
   "cell_type": "code",
   "execution_count": 3,
   "id": "a3d0962f",
   "metadata": {},
   "outputs": [],
   "source": [
    "import pickle\n",
    "\n",
    "with open('features_tratadas/critic_temp.pkl', 'rb') as f:\n",
    "    crit_temp_array = pickle.load(f)\n",
    "with open('features_tratadas/atomic_mass.pkl', 'rb') as f:\n",
    "    atomic_mass_array = pickle.load(f)\n",
    "with open('features_tratadas/fie.pkl', 'rb') as f:\n",
    "    fie_array = pickle.load(f)\n",
    "with open('features_tratadas/atom_radius.pkl', 'rb') as f:\n",
    "    atom_radius_array = pickle.load(f)\n",
    "with open('features_tratadas/density.pkl', 'rb') as f:\n",
    "    density_array = pickle.load(f)\n",
    "with open('features_tratadas/elec_aff.pkl', 'rb') as f:\n",
    "    elec_aff_array = pickle.load(f)\n",
    "with open('features_tratadas/fusion_heat.pkl', 'rb') as f:\n",
    "    fusion_heat_array = pickle.load(f)\n",
    "with open('features_tratadas/thermal_cond.pkl', 'rb') as f:\n",
    "    thermal_cond_array = pickle.load(f)\n",
    "with open('features_tratadas/valence.pkl', 'rb') as f:\n",
    "    valence_array = pickle.load(f)"
   ]
  },
  {
   "cell_type": "markdown",
   "id": "d77868db",
   "metadata": {},
   "source": [
    "### Separando em train - test:"
   ]
  },
  {
   "cell_type": "code",
   "execution_count": 4,
   "id": "7eae6b4a",
   "metadata": {},
   "outputs": [],
   "source": [
    "from sklearn.model_selection import train_test_split\n",
    "\n",
    "crit_temp_array_train, crit_temp_array_test = train_test_split(crit_temp_array, test_size=0.2, random_state=42)\n",
    "atomic_mass_array_train, atomic_mass_array_test = train_test_split(atomic_mass_array, test_size=0.2, random_state=42)\n",
    "fie_array_train, fie_array_test = train_test_split(fie_array, test_size=0.2, random_state=42)\n",
    "atom_radius_array_train, atom_radius_array_test = train_test_split(atom_radius_array, test_size=0.2, random_state=42)\n",
    "density_array_train, density_array_test = train_test_split(density_array, test_size=0.2, random_state=42)\n",
    "elec_aff_array_train, elec_aff_array_test = train_test_split(elec_aff_array, test_size=0.2, random_state=42)\n",
    "fusion_heat_array_train, fusion_heat_array_test = train_test_split(fusion_heat_array, test_size=0.2, random_state=42)\n",
    "thermal_cond_array_train, thermal_cond_array_test = train_test_split(thermal_cond_array, test_size=0.2, random_state=42)\n",
    "valence_array_train, valence_array_test = train_test_split(valence_array, test_size=0.2, random_state=42)"
   ]
  },
  {
   "cell_type": "markdown",
   "id": "28d22cca",
   "metadata": {},
   "source": [
    "### Criando modelo:"
   ]
  }
 ],
 "metadata": {
  "kernelspec": {
   "display_name": "env",
   "language": "python",
   "name": "python3"
  },
  "language_info": {
   "codemirror_mode": {
    "name": "ipython",
    "version": 3
   },
   "file_extension": ".py",
   "mimetype": "text/x-python",
   "name": "python",
   "nbconvert_exporter": "python",
   "pygments_lexer": "ipython3",
   "version": "3.12.10"
  }
 },
 "nbformat": 4,
 "nbformat_minor": 5
}
